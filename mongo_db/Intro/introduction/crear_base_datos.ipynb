{
 "cells": [
  {
   "cell_type": "markdown",
   "metadata": {},
   "source": [
    "# Nube"
   ]
  },
  {
   "cell_type": "markdown",
   "metadata": {},
   "source": [
    "1. https://www.mongodb.com/es\n",
    "2. Nos registramos en la plataforma\n",
    "3. Configurar\n",
    "    - mquicenotoro\n",
    "    - W03ylflFHCoK0uWQ"
   ]
  },
  {
   "cell_type": "markdown",
   "metadata": {},
   "source": [
    "## Compass"
   ]
  },
  {
   "cell_type": "markdown",
   "metadata": {},
   "source": [
    "Podemos descargar compass para que mediante una interfaz visual mas amigable podamos visualizar nuestra base de datos, realizar consultas y otras operaciones en ella."
   ]
  },
  {
   "cell_type": "markdown",
   "metadata": {},
   "source": []
  }
 ],
 "metadata": {
  "language_info": {
   "name": "python"
  }
 },
 "nbformat": 4,
 "nbformat_minor": 2
}
