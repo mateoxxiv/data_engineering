{
 "cells": [
  {
   "cell_type": "markdown",
   "metadata": {},
   "source": [
    "# Bases de datos no SQL"
   ]
  },
  {
   "cell_type": "markdown",
   "metadata": {},
   "source": [
    "### Documentales"
   ]
  },
  {
   "cell_type": "markdown",
   "metadata": {},
   "source": [
    "Se caracterizan por emparejar cada clave valor con unsa estructura de datos compleja ( docuemento )"
   ]
  },
  {
   "cell_type": "markdown",
   "metadata": {},
   "source": [
    "### Grafos"
   ]
  },
  {
   "cell_type": "markdown",
   "metadata": {},
   "source": [
    "Representar información con nodos y conexiones, usadas para represnetar entidades que requieren relaciones muy complejas"
   ]
  },
  {
   "cell_type": "markdown",
   "metadata": {},
   "source": [
    "### Clave valor"
   ]
  },
  {
   "cell_type": "markdown",
   "metadata": {},
   "source": [
    "Para acceso de memoria rapida"
   ]
  },
  {
   "cell_type": "markdown",
   "metadata": {},
   "source": [
    "### Columnas"
   ]
  },
  {
   "cell_type": "markdown",
   "metadata": {},
   "source": [
    "Permiten consultas de grandes conjuntos de datos ... guardamos en columnas en lugar de filas"
   ]
  },
  {
   "cell_type": "markdown",
   "metadata": {},
   "source": [
    "# Caracteristicas bases de datos NO SQL"
   ]
  },
  {
   "cell_type": "markdown",
   "metadata": {},
   "source": [
    "### Escalamiento horizontal"
   ]
  },
  {
   "cell_type": "markdown",
   "metadata": {},
   "source": [
    "- El escalamiento vertical se refiere al incremento en la caracteristicas de una maquina en espefico.\n",
    "- El escalamiento horizontal se refiere a la implementación de mas maquinas."
   ]
  },
  {
   "cell_type": "markdown",
   "metadata": {},
   "source": [
    "### Replicación\n"
   ]
  },
  {
   "cell_type": "markdown",
   "metadata": {},
   "source": [
    "Cuando distribuimos una base de datos en varios nodos, nos permite organizar nuestras peticiones. permitiendonos tener una alta disponibilidad."
   ]
  },
  {
   "cell_type": "markdown",
   "metadata": {},
   "source": [
    "# Documentos y colecciones"
   ]
  },
  {
   "cell_type": "markdown",
   "metadata": {},
   "source": [
    "## Documentos"
   ]
  },
  {
   "cell_type": "markdown",
   "metadata": {},
   "source": [
    "Son la forma en la que almancenamos la información que está dentro de un dominio.  \n",
    "**Ejemplo de dominio:** Poductos de un ecommerce, inventario de una tienda.  \n",
    "  \n",
    "Es una forma de almacenar y organizar información en un conjunto de clave valor. En la practica estos se ven como un json"
   ]
  },
  {
   "cell_type": "code",
   "execution_count": 2,
   "metadata": {},
   "outputs": [
    {
     "data": {
      "text/plain": [
       "{'name': 'Mateo',\n",
       " 'age': 26,\n",
       " 'status': 'active',\n",
       " 'interests': ['data', 'entrepeneurship'],\n",
       " 'born': {'year': 2000, 'month': 9, 'day': 4, 'country': 'Col', 'city': 'Med'}}"
      ]
     },
     "execution_count": 2,
     "metadata": {},
     "output_type": "execute_result"
    }
   ],
   "source": [
    "{\n",
    "    'name': \"Mateo\",\n",
    "    'age': 26,\n",
    "    'status': 'active',\n",
    "    'interests': ['data','entrepeneurship'],\n",
    "    'born':{\n",
    "        'year': 2000,\n",
    "        'month': 9,\n",
    "        'day': 4,\n",
    "        'country':'Col',\n",
    "        'city': 'Med'\n",
    "    }\n",
    "}"
   ]
  },
  {
   "cell_type": "markdown",
   "metadata": {},
   "source": [
    "## Colecciones"
   ]
  },
  {
   "cell_type": "markdown",
   "metadata": {},
   "source": [
    "Lugar en donde vamos a almacenar nuestros documentos.  \n",
    "Es la forma en la que guardamos los datos y que guardan caracteristicas en común."
   ]
  }
 ],
 "metadata": {
  "kernelspec": {
   "display_name": "venv",
   "language": "python",
   "name": "python3"
  },
  "language_info": {
   "codemirror_mode": {
    "name": "ipython",
    "version": 3
   },
   "file_extension": ".py",
   "mimetype": "text/x-python",
   "name": "python",
   "nbconvert_exporter": "python",
   "pygments_lexer": "ipython3",
   "version": "3.11.5"
  }
 },
 "nbformat": 4,
 "nbformat_minor": 2
}
