{
 "cells": [
  {
   "cell_type": "markdown",
   "metadata": {},
   "source": [
    "## Extención para VS"
   ]
  },
  {
   "cell_type": "markdown",
   "metadata": {},
   "source": [
    "Mogo query lenguage  \n",
    "  \n",
    "\n",
    "https://www.mongodb.com/products/tools/vs-code  \n",
    "  \n",
    "\n",
    "ó podemos buscar la extensión \"MongoDB for VS Code\""
   ]
  },
  {
   "cell_type": "markdown",
   "metadata": {},
   "source": [
    "# Consejos"
   ]
  },
  {
   "cell_type": "markdown",
   "metadata": {},
   "source": [
    "https://www.toptal.com/developers/gitignore  \n",
    "  \n",
    "\n",
    "USar esta pagina apra egenrar archivos de gitignore que por lo general no deben de ser trakeados"
   ]
  },
  {
   "cell_type": "markdown",
   "metadata": {},
   "source": [
    "https://gist.github.com/nicobytes/fbd8c63977217855ba8afd3e240651c9  \n",
    "  \n",
    "\n",
    "Configuraciones geenrales para un proyecto"
   ]
  },
  {
   "cell_type": "markdown",
   "metadata": {},
   "source": [
    "# Creación de scripts"
   ]
  },
  {
   "cell_type": "markdown",
   "metadata": {},
   "source": [
    "Para crear scripts de mongo debemos llamar los archivos de la siguiente forma:  \n",
    "  \n",
    "\n",
    "nombre.mongodb"
   ]
  },
  {
   "cell_type": "markdown",
   "metadata": {},
   "source": []
  }
 ],
 "metadata": {
  "language_info": {
   "name": "python"
  }
 },
 "nbformat": 4,
 "nbformat_minor": 2
}
