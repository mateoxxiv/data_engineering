{
 "cells": [
  {
   "cell_type": "markdown",
   "metadata": {},
   "source": [
    "# DataFrame"
   ]
  },
  {
   "cell_type": "markdown",
   "metadata": {},
   "source": [
    "Es una estructura de datos distribuida que organiza los datos en filas y columnas, similar a una tabla en una base de datos o un DataFrame en pandas. Sin embargo, a diferencia de pandas, los DataFrames en PySpark están diseñados para manejar grandes volúmenes de datos y operar en un entorno distribuido.  \n",
    "  \n",
    "Este tiene como ventaja que peude interoprar con spark sql .. lo que peude hacer que las consultas de desarrollen de froma agil y sin necesidad de grandes cantidades de código."
   ]
  },
  {
   "cell_type": "markdown",
   "metadata": {},
   "source": [
    "## Fuentes de datos"
   ]
  },
  {
   "cell_type": "markdown",
   "metadata": {},
   "source": [
    "- Archivos CSV\n",
    "- Archivos JSON\n",
    "- Archivos Parquet\n",
    "- Archivos Avro\n",
    "- Bases de datos SQL (como PostgreSQL, MySQL, SQL Server)\n",
    "- Bases de datos NoSQL (como MongoDB, Cassandra)\n",
    "- Apache Hive\n",
    "- Apache HBase\n",
    "- Archivos de texto plano\n",
    "- Fuentes de datos en la nube (como Amazon S3, Google Cloud Storage, Azure Blob Storage)"
   ]
  },
  {
   "cell_type": "markdown",
   "metadata": {},
   "source": [
    "# Funciones"
   ]
  },
  {
   "cell_type": "markdown",
   "metadata": {},
   "source": [
    "## Crear un contexto"
   ]
  },
  {
   "cell_type": "code",
   "execution_count": null,
   "metadata": {},
   "outputs": [],
   "source": [
    "from pyspark.sql import SparkSession\n",
    "\n",
    "# Crear una sesión de Spark\n",
    "spark = SparkSession.builder.appName(\"EjemploDataFrame\").getOrCreate()\n",
    "spark.sparkContext.setLogLevel('ERROR')"
   ]
  },
  {
   "cell_type": "markdown",
   "metadata": {},
   "source": [
    "## Importación de datos desde un CSV"
   ]
  },
  {
   "cell_type": "code",
   "execution_count": null,
   "metadata": {},
   "outputs": [],
   "source": [
    "ordenes_path = '../resources/ordenes.csv'\n",
    "ordenes = spark.read.csv(ordenes_path)"
   ]
  },
  {
   "cell_type": "markdown",
   "metadata": {},
   "source": [
    "## Nota"
   ]
  },
  {
   "cell_type": "markdown",
   "metadata": {},
   "source": [
    "Cuando estemos trabajando con dataframes podemos usar las mismas funciones que vimos en sql ... usando la API y no lenguaje sql directamente."
   ]
  },
  {
   "cell_type": "markdown",
   "metadata": {},
   "source": []
  }
 ],
 "metadata": {
  "kernelspec": {
   "display_name": "venv",
   "language": "python",
   "name": "python3"
  },
  "language_info": {
   "codemirror_mode": {
    "name": "ipython",
    "version": 3
   },
   "file_extension": ".py",
   "mimetype": "text/x-python",
   "name": "python",
   "nbconvert_exporter": "python",
   "pygments_lexer": "ipython3",
   "version": "3.11.5"
  }
 },
 "nbformat": 4,
 "nbformat_minor": 2
}
